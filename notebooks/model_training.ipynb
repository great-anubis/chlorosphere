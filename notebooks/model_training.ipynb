{
 "cells": [
  {
   "cell_type": "code",
   "execution_count": null,
   "metadata": {},
   "outputs": [],
   "source": [
    "import os\n",
    "import tensorflow as tf\n",
    "from tensorflow.keras.models import model_from_json\n",
    "from tensorflow.keras.optimizers import Adam\n",
    "from tensorflow.keras.layers import Dense\n",
    "from tensorflow.keras.callbacks import ModelCheckpoint, EarlyStopping, ReduceLROnPlateau\n",
    "from tensorflow.keras.preprocessing.image import ImageDataGenerator\n",
    "import pandas as pd\n",
    "import matplotlib.pyplot as plt"
   ]
  },
  {
   "cell_type": "code",
   "execution_count": null,
   "metadata": {},
   "outputs": [],
   "source": [
    "# Paths\n",
    "root_dir = os.getcwd()\n",
    "model_dir = os.path.join(root_dir, \"model/\")\n",
    "data_dir = os.path.join(root_dir, \"data/\")\n",
    "docs_dir = os.path.join(root_dir, \"docs/\")\n",
    "\n",
    "trained_model_path = os.path.join(model_dir, \"trained_model.keras\")\n",
    "metrics_path = os.path.join(docs_dir, \"metrics.md\")\n",
    "history_plot_path = os.path.join(docs_dir, \"training_history.png\")\n",
    "cnn_model_path = os.path.join(model_dir, \"cnn_model.json\")\n",
    "cnn_weights_path = os.path.join(model_dir, \"cnn_weights.weights.h5\")  \n"
   ]
  },
  {
   "cell_type": "code",
   "execution_count": null,
   "metadata": {},
   "outputs": [],
   "source": [
    "# Ensure Directories Exist\n",
    "for directory in [model_dir, docs_dir]:\n",
    "    if not os.path.exists(directory):\n",
    "        os.makedirs(directory)"
   ]
  },
  {
   "cell_type": "code",
   "execution_count": null,
   "metadata": {},
   "outputs": [],
   "source": [
    "# Data Generators\n",
    "train_gen = ImageDataGenerator(rescale=1.0 / 255)\n",
    "valid_gen = ImageDataGenerator(rescale=1.0 / 255)\n"
   ]
  },
  {
   "cell_type": "code",
   "execution_count": null,
   "metadata": {},
   "outputs": [],
   "source": [
    "# Load Dataset\n",
    "train_df = pd.read_csv(os.path.join(data_dir, \"train_data.csv\"))\n",
    "valid_df = pd.read_csv(os.path.join(data_dir, \"valid_data.csv\"))\n"
   ]
  },
  {
   "cell_type": "code",
   "execution_count": null,
   "metadata": {},
   "outputs": [],
   "source": [
    "# Data Generator Configurations\n",
    "img_size = (224, 224)\n",
    "batch_size = 32\n",
    "\n",
    "train_generator = train_gen.flow_from_dataframe(\n",
    "    train_df, x_col='filepaths', y_col='labels',\n",
    "    target_size=img_size, class_mode='categorical',\n",
    "    batch_size=batch_size, shuffle=True\n",
    ")\n",
    "\n",
    "valid_generator = valid_gen.flow_from_dataframe(\n",
    "    valid_df, x_col='filepaths', y_col='labels',\n",
    "    target_size=img_size, class_mode='categorical',\n",
    "    batch_size=batch_size, shuffle=False\n",
    ")\n"
   ]
  },
  {
   "cell_type": "code",
   "execution_count": null,
   "metadata": {},
   "outputs": [],
   "source": [
    "# Load CNN Architecture (Sequential)\n",
    "with open(cnn_model_path, \"r\") as json_file:\n",
    "    model = model_from_json(json_file.read())\n",
    "print(\"Loaded CNN architecture from cnn_model.json.\")\n"
   ]
  },
  {
   "cell_type": "code",
   "execution_count": null,
   "metadata": {},
   "outputs": [],
   "source": [
    "# Build the model to set input shape\n",
    "model.build(input_shape=(None, 224, 224, 3))\n"
   ]
  },
  {
   "cell_type": "code",
   "execution_count": null,
   "metadata": {},
   "outputs": [],
   "source": [
    "# load weights\n",
    "model.load_weights(cnn_weights_path)"
   ]
  },
  {
   "cell_type": "code",
   "execution_count": null,
   "metadata": {},
   "outputs": [],
   "source": [
    "# Remove the last layer\n",
    "model.pop()"
   ]
  },
  {
   "cell_type": "code",
   "execution_count": null,
   "metadata": {},
   "outputs": [],
   "source": [
    "# Add a new classification layer for 38 classes with a unique name\n",
    "model.add(Dense(38, activation='softmax', name=\"final_output\"))"
   ]
  },
  {
   "cell_type": "code",
   "execution_count": null,
   "metadata": {},
   "outputs": [],
   "source": [
    "# Compile Model\n",
    "model.compile(\n",
    "    optimizer=Adam(learning_rate=0.001),\n",
    "    loss='categorical_crossentropy',\n",
    "    metrics=['accuracy']\n",
    ")"
   ]
  },
  {
   "cell_type": "code",
   "execution_count": null,
   "metadata": {},
   "outputs": [],
   "source": [
    "# Callbacks\n",
    "checkpoint = ModelCheckpoint(\n",
    "    trained_model_path, monitor='val_accuracy',\n",
    "    save_best_only=True, verbose=1\n",
    ")\n",
    "early_stopping = EarlyStopping(monitor='val_loss', patience=5, verbose=1)\n",
    "reduce_lr = ReduceLROnPlateau(monitor='val_loss', factor=0.5, patience=3, verbose=1)\n"
   ]
  },
  {
   "cell_type": "code",
   "execution_count": null,
   "metadata": {},
   "outputs": [],
   "source": [
    "# Train Model\n",
    "history = model.fit(\n",
    "    train_generator,\n",
    "    validation_data=valid_generator,\n",
    "    epochs=20,\n",
    "    callbacks=[checkpoint, early_stopping, reduce_lr]\n",
    ")"
   ]
  },
  {
   "cell_type": "code",
   "execution_count": null,
   "metadata": {},
   "outputs": [],
   "source": [
    "# Save Final Model\n",
    "model.save(trained_model_path)\n",
    "print(f\"Trained model saved to {trained_model_path}\")\n"
   ]
  },
  {
   "cell_type": "code",
   "execution_count": null,
   "metadata": {},
   "outputs": [],
   "source": [
    "# Plot Training History\n",
    "plt.figure()\n",
    "plt.plot(history.history['accuracy'], label='Train Accuracy')\n",
    "plt.plot(history.history['val_accuracy'], label='Validation Accuracy')\n",
    "plt.xlabel('Epochs')\n",
    "plt.ylabel('Accuracy')\n",
    "plt.legend()\n",
    "plt.savefig(history_plot_path)\n",
    "plt.close()\n",
    "print(f\"Training history plot saved to {history_plot_path}\")\n"
   ]
  },
  {
   "cell_type": "code",
   "execution_count": null,
   "metadata": {},
   "outputs": [],
   "source": [
    "# Save Metrics\n",
    "final_training_accuracy = history.history['accuracy'][-1]\n",
    "final_validation_accuracy = history.history['val_accuracy'][-1]\n",
    "with open(metrics_path, \"w\") as f:\n",
    "    f.write(\"# Model Metrics\\n\")\n",
    "    f.write(f\"Final Training Accuracy: {final_training_accuracy:.4f}\\n\")\n",
    "    f.write(f\"Final Validation Accuracy: {final_validation_accuracy:.4f}\\n\")\n",
    "print(f\"Metrics saved to {metrics_path}\")\n"
   ]
  }
 ],
 "metadata": {
  "language_info": {
   "name": "python"
  }
 },
 "nbformat": 4,
 "nbformat_minor": 2
}
